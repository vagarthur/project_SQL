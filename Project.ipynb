{
 "cells": [
  {
   "cell_type": "markdown",
   "id": "ff092d62",
   "metadata": {},
   "source": [
    "# 1. Очень усердные ученики"
   ]
  },
  {
   "cell_type": "markdown",
   "id": "b5b3988d",
   "metadata": {},
   "source": [
    "# Образовательные курсы состоят из различных уроков, каждый из которых состоит из нескольких маленьких заданий. Каждое такое маленькое задание называется \"горошиной\".\n",
    "\n",
    "Назовём очень усердным учеником того пользователя, который хотя бы раз за текущий месяц правильно решил 20 горошин."
   ]
  },
  {
   "cell_type": "markdown",
   "id": "55fdda39",
   "metadata": {},
   "source": [
    "Дана таблица default.peas\n",
    "Необходимо написать оптимальный запрос, который даст информацию о количестве очень усердных студентов.NB! Под усердным студентом мы понимаем студента, который правильно решил 20 задач за текущий месяц."
   ]
  },
  {
   "cell_type": "markdown",
   "id": "33279688",
   "metadata": {},
   "source": [
    "# Необходимо написать оптимальный запрос, который даст информацию о количестве очень усердных студентов.NB! Под усердным студентом мы понимаем студента, который правильно решил 20 задач за текущий месяц."
   ]
  },
  {
   "cell_type": "code",
   "execution_count": 1,
   "id": "8d887e84",
   "metadata": {},
   "outputs": [],
   "source": [
    "import pandahouse as ph\n",
    "\n",
    "#импорт библиотеки"
   ]
  },
  {
   "cell_type": "code",
   "execution_count": 2,
   "id": "12336735",
   "metadata": {},
   "outputs": [],
   "source": [
    "connection_default = {'host': 'https://clickhouse.lab.karpov.courses',\n",
    "                      'database':'default',\n",
    "                      'user':'student', \n",
    "                      'password':'dpo_python_2020'}\n",
    "#создаю словарь с нужными параметрами"
   ]
  },
  {
   "cell_type": "code",
   "execution_count": 3,
   "id": "a74ee488",
   "metadata": {},
   "outputs": [
    {
     "data": {
      "text/html": [
       "<div>\n",
       "<style scoped>\n",
       "    .dataframe tbody tr th:only-of-type {\n",
       "        vertical-align: middle;\n",
       "    }\n",
       "\n",
       "    .dataframe tbody tr th {\n",
       "        vertical-align: top;\n",
       "    }\n",
       "\n",
       "    .dataframe thead th {\n",
       "        text-align: right;\n",
       "    }\n",
       "</style>\n",
       "<table border=\"1\" class=\"dataframe\">\n",
       "  <thead>\n",
       "    <tr style=\"text-align: right;\">\n",
       "      <th></th>\n",
       "      <th>count</th>\n",
       "    </tr>\n",
       "  </thead>\n",
       "  <tbody>\n",
       "    <tr>\n",
       "      <th>0</th>\n",
       "      <td>13245</td>\n",
       "    </tr>\n",
       "  </tbody>\n",
       "</table>\n",
       "</div>"
      ],
      "text/plain": [
       "   count\n",
       "0  13245"
      ]
     },
     "execution_count": 3,
     "metadata": {},
     "output_type": "execute_result"
    }
   ],
   "source": [
    "q_test = \"\"\"\n",
    "SELECT \n",
    "    count(*) as count\n",
    "FROM \n",
    "    peas\n",
    "\"\"\"\n",
    "\n",
    "q_test = ph.read_clickhouse(query=q_test, connection=connection_default)\n",
    "q_test.head()\n",
    "\n",
    "#проверю правильность подключения к ClickHouse через pandahouse, отправив простой запрос."
   ]
  },
  {
   "cell_type": "code",
   "execution_count": 4,
   "id": "979fbfc7",
   "metadata": {},
   "outputs": [
    {
     "data": {
      "text/html": [
       "<div>\n",
       "<style scoped>\n",
       "    .dataframe tbody tr th:only-of-type {\n",
       "        vertical-align: middle;\n",
       "    }\n",
       "\n",
       "    .dataframe tbody tr th {\n",
       "        vertical-align: top;\n",
       "    }\n",
       "\n",
       "    .dataframe thead th {\n",
       "        text-align: right;\n",
       "    }\n",
       "</style>\n",
       "<table border=\"1\" class=\"dataframe\">\n",
       "  <thead>\n",
       "    <tr style=\"text-align: right;\">\n",
       "      <th></th>\n",
       "      <th>st_id</th>\n",
       "      <th>timest</th>\n",
       "      <th>correct</th>\n",
       "      <th>subject</th>\n",
       "    </tr>\n",
       "  </thead>\n",
       "  <tbody>\n",
       "    <tr>\n",
       "      <th>0</th>\n",
       "      <td>100379</td>\n",
       "      <td>2021-10-30 13:32:29</td>\n",
       "      <td>1</td>\n",
       "      <td>Theory of probability</td>\n",
       "    </tr>\n",
       "    <tr>\n",
       "      <th>1</th>\n",
       "      <td>100379</td>\n",
       "      <td>2021-10-30 14:11:19</td>\n",
       "      <td>0</td>\n",
       "      <td>Vizualization</td>\n",
       "    </tr>\n",
       "    <tr>\n",
       "      <th>2</th>\n",
       "      <td>100379</td>\n",
       "      <td>2021-10-30 15:54:22</td>\n",
       "      <td>1</td>\n",
       "      <td>Theory of probability</td>\n",
       "    </tr>\n",
       "    <tr>\n",
       "      <th>3</th>\n",
       "      <td>100379</td>\n",
       "      <td>2021-10-30 16:44:50</td>\n",
       "      <td>1</td>\n",
       "      <td>Vizualization</td>\n",
       "    </tr>\n",
       "    <tr>\n",
       "      <th>4</th>\n",
       "      <td>100379</td>\n",
       "      <td>2021-10-30 17:15:05</td>\n",
       "      <td>1</td>\n",
       "      <td>Theory of probability</td>\n",
       "    </tr>\n",
       "    <tr>\n",
       "      <th>5</th>\n",
       "      <td>100379</td>\n",
       "      <td>2021-10-30 18:02:37</td>\n",
       "      <td>1</td>\n",
       "      <td>Theory of probability</td>\n",
       "    </tr>\n",
       "    <tr>\n",
       "      <th>6</th>\n",
       "      <td>100379</td>\n",
       "      <td>2021-10-30 18:17:25</td>\n",
       "      <td>1</td>\n",
       "      <td>Vizualization</td>\n",
       "    </tr>\n",
       "    <tr>\n",
       "      <th>7</th>\n",
       "      <td>100379</td>\n",
       "      <td>2021-10-30 18:32:26</td>\n",
       "      <td>0</td>\n",
       "      <td>Theory of probability</td>\n",
       "    </tr>\n",
       "    <tr>\n",
       "      <th>8</th>\n",
       "      <td>100379</td>\n",
       "      <td>2021-10-30 19:19:33</td>\n",
       "      <td>1</td>\n",
       "      <td>Vizualization</td>\n",
       "    </tr>\n",
       "    <tr>\n",
       "      <th>9</th>\n",
       "      <td>100379</td>\n",
       "      <td>2021-10-30 19:28:03</td>\n",
       "      <td>1</td>\n",
       "      <td>Theory of probability</td>\n",
       "    </tr>\n",
       "    <tr>\n",
       "      <th>10</th>\n",
       "      <td>100379</td>\n",
       "      <td>2021-10-30 20:23:01</td>\n",
       "      <td>0</td>\n",
       "      <td>Theory of probability</td>\n",
       "    </tr>\n",
       "  </tbody>\n",
       "</table>\n",
       "</div>"
      ],
      "text/plain": [
       "     st_id              timest  correct                subject\n",
       "0   100379 2021-10-30 13:32:29        1  Theory of probability\n",
       "1   100379 2021-10-30 14:11:19        0          Vizualization\n",
       "2   100379 2021-10-30 15:54:22        1  Theory of probability\n",
       "3   100379 2021-10-30 16:44:50        1          Vizualization\n",
       "4   100379 2021-10-30 17:15:05        1  Theory of probability\n",
       "5   100379 2021-10-30 18:02:37        1  Theory of probability\n",
       "6   100379 2021-10-30 18:17:25        1          Vizualization\n",
       "7   100379 2021-10-30 18:32:26        0  Theory of probability\n",
       "8   100379 2021-10-30 19:19:33        1          Vizualization\n",
       "9   100379 2021-10-30 19:28:03        1  Theory of probability\n",
       "10  100379 2021-10-30 20:23:01        0  Theory of probability"
      ]
     },
     "execution_count": 4,
     "metadata": {},
     "output_type": "execute_result"
    }
   ],
   "source": [
    "q = \"\"\"\n",
    "SELECT\n",
    "    st_id, \n",
    "    toDateTime(timest) as timest,\n",
    "    correct, \n",
    "    subject\n",
    "FROM \n",
    "    peas\n",
    "\"\"\"\n",
    "\n",
    "q = ph.read_clickhouse(query=q, connection=connection_default)\n",
    "q.head(11)\n",
    "\n",
    "#вывожу таблицу peas, чтобы посмотреть на данные"
   ]
  },
  {
   "cell_type": "code",
   "execution_count": 5,
   "id": "bdbb3b2d",
   "metadata": {},
   "outputs": [
    {
     "name": "stdout",
     "output_type": "stream",
     "text": [
      "st_id:           308\n",
      "time_max:        2021-10-31 17:29:52\n",
      "time_min:        2021-10-30 13:00:00\n",
      "unique correct:  [1 0]\n",
      "subject:         ['Theory of probability' 'Vizualization' 'Python' 'Statistics' 'Math']\n"
     ]
    }
   ],
   "source": [
    "print(f'st_id:           {q.st_id.nunique()}')\n",
    "print(f'time_max:        {q.timest.max()}')\n",
    "print(f'time_min:        {q.timest.min()}')\n",
    "print(f'unique correct:  {q.correct.unique()}')\n",
    "print(f'subject:         {q.subject.unique()}')\n",
    "\n",
    "#разведывательный анализ наполнения таблицы"
   ]
  },
  {
   "cell_type": "code",
   "execution_count": 6,
   "id": "29428e9b",
   "metadata": {},
   "outputs": [
    {
     "data": {
      "text/html": [
       "<div>\n",
       "<style scoped>\n",
       "    .dataframe tbody tr th:only-of-type {\n",
       "        vertical-align: middle;\n",
       "    }\n",
       "\n",
       "    .dataframe tbody tr th {\n",
       "        vertical-align: top;\n",
       "    }\n",
       "\n",
       "    .dataframe thead th {\n",
       "        text-align: right;\n",
       "    }\n",
       "</style>\n",
       "<table border=\"1\" class=\"dataframe\">\n",
       "  <thead>\n",
       "    <tr style=\"text-align: right;\">\n",
       "      <th></th>\n",
       "      <th>count_diligent_student</th>\n",
       "    </tr>\n",
       "  </thead>\n",
       "  <tbody>\n",
       "    <tr>\n",
       "      <th>0</th>\n",
       "      <td>136</td>\n",
       "    </tr>\n",
       "  </tbody>\n",
       "</table>\n",
       "</div>"
      ],
      "text/plain": [
       "   count_diligent_student\n",
       "0                     136"
      ]
     },
     "execution_count": 6,
     "metadata": {},
     "output_type": "execute_result"
    }
   ],
   "source": [
    "q_answer = \"\"\"\n",
    "SELECT COUNT(st_id) AS count_diligent_student\n",
    "FROM \n",
    "(SELECT toStartOfMonth(timest) AS current_month, st_id, SUM(correct) AS count_pea FROM peas \n",
    "WHERE correct == 1 GROUP BY current_month, st_id) as join_tab\n",
    "WHERE count_pea >= 20\n",
    "\"\"\"\n",
    "\n",
    "q_answer = ph.read_clickhouse(query=q_answer, connection=connection_default)\n",
    "q_answer\n",
    "\n",
    "#запрос с ответом на поставленную задачу"
   ]
  },
  {
   "cell_type": "markdown",
   "id": "fa95b2a2",
   "metadata": {},
   "source": [
    "Образовательная платформа предлагает пройти студентам курсы по модели trial: студент может решить бесплатно лишь 30 горошин в день. Для неограниченного количества заданий в определенной дисциплине студенту необходимо приобрести полный доступ. Команда провела эксперимент, где был протестирован новый экран оплаты."
   ]
  },
  {
   "cell_type": "markdown",
   "id": "a3b32d17",
   "metadata": {},
   "source": [
    "# 2. Оптимизация воронки"
   ]
  },
  {
   "cell_type": "markdown",
   "id": "284d804c",
   "metadata": {},
   "source": [
    "Образовательная платформа предлагает пройти студентам курсы по модели trial: студент может решить бесплатно лишь 30 горошин в день. Для неограниченного количества заданий в определенной дисциплине студенту необходимо приобрести полный доступ. Команда провела эксперимент, где был протестирован новый экран оплаты."
   ]
  },
  {
   "cell_type": "markdown",
   "id": "87e18f83",
   "metadata": {},
   "source": [
    "# Необходимо в одном запросе выгрузить следующую информацию о группах пользователей:\n",
    "\n",
    "ARPU \n",
    "ARPAU \n",
    "CR в покупку \n",
    "СR активного пользователя в покупку \n",
    "CR пользователя из активности по математике (subject = ’math’) в покупку курса по математике\n",
    "ARPU считается относительно всех пользователей, попавших в группы.\n",
    "\n",
    "Активным считается пользователь, за все время решивший больше 10 задач правильно в любых дисциплинах.\n",
    "\n",
    "Активным по математике считается пользователь, за все время решивший 2 или больше задач правильно по математике."
   ]
  },
  {
   "cell_type": "code",
   "execution_count": 7,
   "id": "713d3df6",
   "metadata": {},
   "outputs": [
    {
     "data": {
      "text/html": [
       "<div>\n",
       "<style scoped>\n",
       "    .dataframe tbody tr th:only-of-type {\n",
       "        vertical-align: middle;\n",
       "    }\n",
       "\n",
       "    .dataframe tbody tr th {\n",
       "        vertical-align: top;\n",
       "    }\n",
       "\n",
       "    .dataframe thead th {\n",
       "        text-align: right;\n",
       "    }\n",
       "</style>\n",
       "<table border=\"1\" class=\"dataframe\">\n",
       "  <thead>\n",
       "    <tr style=\"text-align: right;\">\n",
       "      <th></th>\n",
       "      <th>group</th>\n",
       "      <th>ARPU</th>\n",
       "      <th>ARPAU</th>\n",
       "      <th>CR</th>\n",
       "      <th>CR_active</th>\n",
       "      <th>CR_math</th>\n",
       "    </tr>\n",
       "  </thead>\n",
       "  <tbody>\n",
       "    <tr>\n",
       "      <th>0</th>\n",
       "      <td>control</td>\n",
       "      <td>4540.983607</td>\n",
       "      <td>10393.700787</td>\n",
       "      <td>4.918033</td>\n",
       "      <td>11.023622</td>\n",
       "      <td>6.122449</td>\n",
       "    </tr>\n",
       "    <tr>\n",
       "      <th>1</th>\n",
       "      <td>pilot</td>\n",
       "      <td>11508.474576</td>\n",
       "      <td>29739.583333</td>\n",
       "      <td>10.847458</td>\n",
       "      <td>26.041667</td>\n",
       "      <td>9.523810</td>\n",
       "    </tr>\n",
       "  </tbody>\n",
       "</table>\n",
       "</div>"
      ],
      "text/plain": [
       "     group          ARPU         ARPAU         CR  CR_active   CR_math\n",
       "0  control   4540.983607  10393.700787   4.918033  11.023622  6.122449\n",
       "1    pilot  11508.474576  29739.583333  10.847458  26.041667  9.523810"
      ]
     },
     "execution_count": 7,
     "metadata": {},
     "output_type": "execute_result"
    }
   ],
   "source": [
    "q_funnel = \"\"\"\n",
    "SELECT test_grp AS group,\n",
    "    SUM(sum_money) / COUNT(DISTINCT st_id) AS ARPU,\n",
    "    SUMIf(sum_money, sum_correct > 10) / COUNTIf(sum_correct > 10) AS ARPAU,\n",
    "    COUNTIf(sum_money > 0) / COUNT(DISTINCT st_id) * 100 AS CR,\n",
    "    COUNTIf(sum_correct > 10 AND sum_money > 0) / COUNTIf(sum_correct > 10) * 100 AS CR_active,\n",
    "    SUMIf(count_math, sum_math >= 2) / COUNTIf(st_id, sum_math >= 2) * 100 AS CR_math\n",
    "FROM (SELECT * FROM studs \n",
    "    LEFT JOIN \n",
    "    (SELECT DISTINCT st_id, SUM(correct) AS sum_correct, SUMIf(correct, subject = 'Math') AS sum_math FROM peas \n",
    "    GROUP BY st_id) AS join_3 USING st_id) AS join_2\n",
    "    LEFT JOIN \n",
    "    (SELECT DISTINCT st_id, SUM(money) AS sum_money, COUNTIf(money, subject='Math') AS count_math \n",
    "    FROM final_project_check GROUP BY st_id) AS join_1 USING st_id\n",
    "GROUP BY test_grp\n",
    "\"\"\"\n",
    "\n",
    "q_funnel = ph.read_clickhouse(query=q_funnel, connection=connection_default)\n",
    "q_funnel\n",
    "\n",
    "#запрос с ответом на поставленную задачу"
   ]
  },
  {
   "cell_type": "code",
   "execution_count": null,
   "id": "ff4cf399",
   "metadata": {},
   "outputs": [],
   "source": []
  },
  {
   "cell_type": "code",
   "execution_count": null,
   "id": "8e2d1f6a",
   "metadata": {},
   "outputs": [],
   "source": []
  },
  {
   "cell_type": "code",
   "execution_count": null,
   "id": "63a3ad39",
   "metadata": {},
   "outputs": [],
   "source": []
  },
  {
   "cell_type": "code",
   "execution_count": null,
   "id": "6e24ff0a",
   "metadata": {},
   "outputs": [],
   "source": []
  },
  {
   "cell_type": "code",
   "execution_count": null,
   "id": "a69d42a4",
   "metadata": {},
   "outputs": [],
   "source": []
  },
  {
   "cell_type": "code",
   "execution_count": null,
   "id": "dec9d09a",
   "metadata": {},
   "outputs": [],
   "source": []
  },
  {
   "cell_type": "code",
   "execution_count": null,
   "id": "fda9c4ee",
   "metadata": {},
   "outputs": [],
   "source": []
  },
  {
   "cell_type": "code",
   "execution_count": null,
   "id": "af3f3dfd",
   "metadata": {},
   "outputs": [],
   "source": []
  },
  {
   "cell_type": "code",
   "execution_count": null,
   "id": "9903b94c",
   "metadata": {},
   "outputs": [],
   "source": []
  },
  {
   "cell_type": "code",
   "execution_count": null,
   "id": "fb1ff462",
   "metadata": {},
   "outputs": [],
   "source": []
  }
 ],
 "metadata": {
  "kernelspec": {
   "display_name": "Python 3 (ipykernel)",
   "language": "python",
   "name": "python3"
  },
  "language_info": {
   "codemirror_mode": {
    "name": "ipython",
    "version": 3
   },
   "file_extension": ".py",
   "mimetype": "text/x-python",
   "name": "python",
   "nbconvert_exporter": "python",
   "pygments_lexer": "ipython3",
   "version": "3.9.13"
  }
 },
 "nbformat": 4,
 "nbformat_minor": 5
}
